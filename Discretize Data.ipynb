{
 "cells": [
  {
   "cell_type": "markdown",
   "metadata": {},
   "source": [
    "# Csci 5523 Final Project\n",
    "## Rona Response Team"
   ]
  },
  {
   "cell_type": "code",
   "execution_count": null,
   "metadata": {},
   "outputs": [],
   "source": [
    "import numpy as np\n",
    "import pandas as pd\n",
    "import squarify\n",
    "import matplotlib.pyplot as plt\n",
    "import seaborn as sns\n",
    "from sklearn import tree"
   ]
  },
  {
   "cell_type": "code",
   "execution_count": null,
   "metadata": {
    "scrolled": true
   },
   "outputs": [],
   "source": [
    "raw_data = pd.read_csv('all-states-history.csv')\n",
    "raw_data.head()\n",
    "raw_data.columns"
   ]
  },
  {
   "cell_type": "code",
   "execution_count": null,
   "metadata": {},
   "outputs": [],
   "source": [
    "columns_to_show = ['date','state','death','deathConfirmed', 'deathIncrease','hospitalizedCurrently','hospitalizedIncrease','negative','positive','positiveIncrease','totalTestResults','totalTestResultsIncrease']\n",
    "data = raw_data[columns_to_show]\n",
    "data.head()"
   ]
  },
  {
   "cell_type": "code",
   "execution_count": null,
   "metadata": {
    "scrolled": true
   },
   "outputs": [],
   "source": [
    "MN_data = data[data['state']=='MN']\n",
    "MN_data.head()"
   ]
  },
  {
   "cell_type": "code",
   "execution_count": null,
   "metadata": {},
   "outputs": [],
   "source": [
    "MN_data.to_csv('MN_Data.csv')"
   ]
  },
  {
   "cell_type": "code",
   "execution_count": null,
   "metadata": {},
   "outputs": [],
   "source": [
    "MN_data = pd.read_csv('MN_data.csv')\n",
    "cols = MN_data.columns\n",
    "MN_data = MN_data[cols[1:]]\n",
    "MN_data.head()"
   ]
  },
  {
   "cell_type": "code",
   "execution_count": null,
   "metadata": {},
   "outputs": [],
   "source": [
    "MN_fall = MN_data[0:90]\n",
    "MN_summer = MN_data[90:182]\n",
    "MN_spring = MN_data[182:]"
   ]
  },
  {
   "cell_type": "code",
   "execution_count": null,
   "metadata": {},
   "outputs": [],
   "source": [
    "def discretize_data(arr, k):\n",
    "    out = pd.DataFrame({'date': arr['date']})\n",
    "    out['state'] = arr['state']\n",
    "    cols = arr.columns[2:]\n",
    "    for i in cols:\n",
    "        bins = pd.cut(arr[i], k, 'retbins' == True, labels = list(range(k)))\n",
    "        bin_range = pd.cut(arr[i],k)\n",
    "        for j in range(k):\n",
    "            count = 0\n",
    "            out[i + ' bin'+str(bin_range.loc[count])] = np.zeros(len(arr))\n",
    "            for row in arr.index:\n",
    "                if bins.loc[row] == j:\n",
    "                    out.loc[row, i + ' bin'+ str(bin_range.loc[count])] = 1\n",
    "                count += 1\n",
    "    out = out.fillna(0)\n",
    "    return out      "
   ]
  },
  {
   "cell_type": "code",
   "execution_count": null,
   "metadata": {},
   "outputs": [],
   "source": [
    "new = discretize_data(MN_fall,4)"
   ]
  },
  {
   "cell_type": "code",
   "execution_count": null,
   "metadata": {},
   "outputs": [],
   "source": [
    "new.head()"
   ]
  },
  {
   "cell_type": "code",
   "execution_count": null,
   "metadata": {},
   "outputs": [],
   "source": [
    "new.describe()"
   ]
  },
  {
   "cell_type": "code",
   "execution_count": null,
   "metadata": {},
   "outputs": [],
   "source": []
  }
 ],
 "metadata": {
  "kernelspec": {
   "display_name": "Python 3",
   "language": "python",
   "name": "python3"
  },
  "language_info": {
   "codemirror_mode": {
    "name": "ipython",
    "version": 3
   },
   "file_extension": ".py",
   "mimetype": "text/x-python",
   "name": "python",
   "nbconvert_exporter": "python",
   "pygments_lexer": "ipython3",
   "version": "3.8.3"
  }
 },
 "nbformat": 4,
 "nbformat_minor": 4
}
