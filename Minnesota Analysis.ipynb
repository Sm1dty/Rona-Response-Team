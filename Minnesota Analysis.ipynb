{
 "cells": [
  {
   "cell_type": "markdown",
   "metadata": {},
   "source": [
    "## Minnesota State COVID Response Analysis\n",
    "This notebook contains the work to identify associations between the Minnesota state governmental response and the COVID-19 case count throughout the pandemic.\n",
    "\n",
    "\n",
    "## Data Cleanup\n",
    "As with most data mining projects, we will need to clean up the given data file in order to focus on the goal at hand. The \"all-states-history.csv\" file is a dataset of U.S. COVID-19 cases and deaths dating from the start of the pandemic to 11/29/20 and was sourced from [The Covid Tracking Project](https://covidtracking.com/data). We are analyzing 3 periods throughout this timeline:\n",
    "\n",
    "- Early Breakout (Early March -> May)\n",
    "- Summer (June -> August)\n",
    "- Fall/Present (September -> Late November)\n",
    "\n",
    "We will divide up the data into 3 different frames according to these periods."
   ]
  },
  {
   "cell_type": "code",
   "execution_count": null,
   "metadata": {},
   "outputs": [],
   "source": [
    "import numpy as np\n",
    "import pandas as pd\n",
    "\n",
    "import matplotlib.pyplot as plt\n",
    "import squarify\n",
    "import seaborn as sns"
   ]
  },
  {
   "cell_type": "code",
   "execution_count": null,
   "metadata": {},
   "outputs": [],
   "source": [
    "data = pd.read_csv('all-states-history.csv')"
   ]
  },
  {
   "cell_type": "markdown",
   "metadata": {},
   "source": [
    "Cleaning up data to only include Minnesota instances and the appropriate attributes"
   ]
  },
  {
   "cell_type": "code",
   "execution_count": null,
   "metadata": {},
   "outputs": [],
   "source": [
    "#isolating the columns we need\n",
    "columns_to_show = ['date','state','death','deathConfirmed','deathIncrease','hospitalized','hospitalizedIncrease','negative'\n",
    "                   ,'negativeIncrease','positive','positiveIncrease','totalTestResults','totalTestResultsIncrease']\n",
    "\n",
    "#isolating only for MN data and putting in order March->November\n",
    "clean_data = data[data['state'] == 'MN']\n",
    "clean_data = clean_data[columns_to_show]\n",
    "clean_data = clean_data.iloc[::-1]\n",
    "\n",
    "#reindexing for weekly processing \n",
    "clean_data['date'] = clean_data['date'].astype('datetime64[ns]')\n",
    "clean_data = clean_data.set_index('date')\n",
    "\n",
    "# isolating the columns that need to be summed when converting to weekly index\n",
    "columns_to_sum = clean_data[['deathIncrease','hospitalizedIncrease','negativeIncrease','positiveIncrease','totalTestResultsIncrease']]\n",
    "weekly_data = columns_to_sum.resample('W', label='right', closed='right').sum()\n",
    "weekly_data = weekly_data.reset_index()\n",
    "\n",
    "\n",
    "# converting remaining non-sum columns to weekly index\n",
    "remaining_cols = clean_data[['state','death','deathConfirmed','hospitalized', 'negative','positive','totalTestResults']]\n",
    "remaining_cols = remaining_cols.resample('W').backfill().reset_index()\n",
    "remaining_cols.head(39)\n",
    "\n",
    "#merging and resetting the datframe order to be more clear\n",
    "clean_data = pd.merge(remaining_cols, weekly_data, on='date').fillna(0)\n",
    "clean_data = clean_data[['date','state','death','deathIncrease','deathConfirmed','hospitalized', 'hospitalizedIncrease','negative',\n",
    "                        'negativeIncrease','positive', 'positiveIncrease','totalTestResults','totalTestResultsIncrease']]"
   ]
  },
  {
   "cell_type": "code",
   "execution_count": null,
   "metadata": {},
   "outputs": [],
   "source": [
    "## Breaking down clean data into each period (earliest days at bottom of dataset)\n",
    "\n",
    "early_breakout_data = clean_data[0:13]\n",
    "\n",
    "summer_data = clean_data[13:26]\n",
    "\n",
    "fall_data = clean_data[26:]\n",
    "\n",
    "early_breakout_data.head(13)\n",
    "\n",
    "bins = pd.cut(early_breakout_data['positiveIncrease'],4)\n",
    "\n",
    "print(bins.shape)\n"
   ]
  },
  {
   "cell_type": "markdown",
   "metadata": {},
   "source": [
    "## Analysis\n",
    "\n",
    "Important MN Stats:\n",
    "\n",
    "- Population (mn.gov estimate): 5,680,337\n",
    "- Land Area (estimate): 79,610.08 sq. mi.\n",
    "- Population Density: 71.35 people/sq. mi.\n",
    "\n",
    "\n",
    "\n",
    "\n",
    "Early Breakout Period:"
   ]
  },
  {
   "cell_type": "code",
   "execution_count": null,
   "metadata": {},
   "outputs": [],
   "source": []
  }
 ],
 "metadata": {
  "kernelspec": {
   "display_name": "Python 38",
   "language": "python",
   "name": "python38"
  },
  "language_info": {
   "codemirror_mode": {
    "name": "ipython",
    "version": 3
   },
   "file_extension": ".py",
   "mimetype": "text/x-python",
   "name": "python",
   "nbconvert_exporter": "python",
   "pygments_lexer": "ipython3",
   "version": "3.8.6"
  }
 },
 "nbformat": 4,
 "nbformat_minor": 4
}
