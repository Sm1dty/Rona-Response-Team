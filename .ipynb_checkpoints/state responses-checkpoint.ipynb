{
 "cells": [
  {
   "cell_type": "markdown",
   "metadata": {},
   "source": [
    "# Initial Set Up"
   ]
  },
  {
   "cell_type": "code",
   "execution_count": null,
   "metadata": {},
   "outputs": [],
   "source": [
    "import numpy as np\n",
    "import pandas as pd\n",
    "\n",
    "import matplotlib.pyplot as plt\n",
    "import squarify\n",
    "import seaborn as sns"
   ]
  },
  {
   "cell_type": "code",
   "execution_count": null,
   "metadata": {},
   "outputs": [],
   "source": [
    "data = pd.read_csv('state-policies.csv')"
   ]
  },
  {
   "cell_type": "markdown",
   "metadata": {},
   "source": [
    "## About the Data"
   ]
  },
  {
   "cell_type": "markdown",
   "metadata": {},
   "source": [
    "You can find the legends regarding what the values in the data mean at the following website: https://github.com/OxCGRT/covid-policy-tracker/tree/master/documentation. "
   ]
  },
  {
   "cell_type": "markdown",
   "metadata": {},
   "source": [
    "# Cleaning Up Data"
   ]
  },
  {
   "cell_type": "code",
   "execution_count": null,
   "metadata": {},
   "outputs": [],
   "source": [
    "data.head()"
   ]
  },
  {
   "cell_type": "code",
   "execution_count": null,
   "metadata": {},
   "outputs": [],
   "source": [
    "#isolating data only about the current state of interest, Minnesota\n",
    "policy_clean_data = policy_data[policy_data['RegionName'] == 'Minnesota']\n",
    "#deleting rows whose dates are outside of the scope of this project\n",
    "policy_clean_data = policy_clean_data.iloc[60:] #delete the first 60 rows due to their January - February dates\n",
    "policy_clean_data = policy_clean_data.iloc[:-3,] #as well as the last 3 rows due to their December dates\n",
    "\n",
    "#declaring and extracting columns of interest from the original dataset\n",
    "columns_of_interest = ['RegionName', 'Jurisdiction', 'Date', 'C1_School closing', 'C2_Workplace closing', \n",
    "                       'C3_Cancel public events', 'C6_Stay at home requirements', \n",
    "                       'C7_Restrictions on internal movement', 'C8_International travel controls', \n",
    "                       'H1_Public information campaigns', 'H2_Testing policy', 'H3_Contact tracing', \n",
    "                       'H4_Emergency investment in healthcare', 'H5_Investment in vaccines', \n",
    "                       'H6_Facial Coverings', 'M1_Wildcard']\n",
    "policy_clean_data = policy_clean_data[columns_of_interest]\n"
   ]
  },
  {
   "cell_type": "code",
   "execution_count": null,
   "metadata": {},
   "outputs": [],
   "source": [
    "policy_clean_data = policy_clean_data.reset_index(drop = True)\n",
    "\n",
    "from datetime import datetime as dt\n",
    "\n",
    "for i in range(policy_clean_data.shape[0]):\n",
    "    date_string = str(policy_clean_data['Date'][i])\n",
    "    policy_clean_data['Date'][i] = dt.strptime(date_string, \"%Y%m%d\").date()\n",
    "\n",
    "policy_clean_data"
   ]
  },
  {
   "cell_type": "code",
   "execution_count": null,
   "metadata": {},
   "outputs": [],
   "source": [
    "policy_clean_data = policy_clean_data.drop([\"RegionName\",\"Jurisdiction\"], axis=1).fillna(0)\n",
    "\n",
    "policy_clean_data"
   ]
  },
  {
   "cell_type": "code",
   "execution_count": null,
   "metadata": {},
   "outputs": [],
   "source": []
  }
 ],
 "metadata": {
  "kernelspec": {
   "display_name": "Python 38",
   "language": "python",
   "name": "python38"
  },
  "language_info": {
   "codemirror_mode": {
    "name": "ipython",
    "version": 3
   },
   "file_extension": ".py",
   "mimetype": "text/x-python",
   "name": "python",
   "nbconvert_exporter": "python",
   "pygments_lexer": "ipython3",
   "version": "3.8.6"
  }
 },
 "nbformat": 4,
 "nbformat_minor": 4
}
